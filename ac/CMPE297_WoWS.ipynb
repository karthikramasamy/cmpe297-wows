{
  "nbformat": 4,
  "nbformat_minor": 0,
  "metadata": {
    "kernelspec": {
      "display_name": "Python 3",
      "language": "python",
      "name": "python3"
    },
    "language_info": {
      "codemirror_mode": {
        "name": "ipython",
        "version": 3
      },
      "file_extension": ".py",
      "mimetype": "text/x-python",
      "name": "python",
      "nbconvert_exporter": "python",
      "pygments_lexer": "ipython3",
      "version": "3.6.5"
    },
    "colab": {
      "name": "CMPE297_WoWS.ipynb",
      "provenance": [],
      "collapsed_sections": [],
      "include_colab_link": true
    }
  },
  "cells": [
    {
      "cell_type": "markdown",
      "metadata": {
        "id": "view-in-github",
        "colab_type": "text"
      },
      "source": [
        "<a href=\"https://colab.research.google.com/github/karthikramasamy/cmpe297-wows/blob/master/ac/CMPE297_WoWS.ipynb\" target=\"_parent\"><img src=\"https://colab.research.google.com/assets/colab-badge.svg\" alt=\"Open In Colab\"/></a>"
      ]
    },
    {
      "cell_type": "code",
      "metadata": {
        "id": "EcgbhkzwH1jc",
        "colab_type": "code",
        "colab": {}
      },
      "source": [
        "import math, random\n",
        "import gym\n",
        "import numpy as np\n",
        "from scipy import signal\n",
        "import torch\n",
        "import torch.nn as nn\n",
        "import torch.optim as optim\n",
        "import torch.autograd as autograd\n",
        "import torch.nn.functional as F\n",
        "from torch.distributions import Categorical"
      ],
      "execution_count": 0,
      "outputs": []
    },
    {
      "cell_type": "code",
      "metadata": {
        "id": "cJYCAwu_H1jh",
        "colab_type": "code",
        "colab": {
          "base_uri": "https://localhost:8080/",
          "height": 34
        },
        "outputId": "40bba755-20d1-4581-f587-fe24f0cd01e4"
      },
      "source": [
        "torch.manual_seed(51)"
      ],
      "execution_count": 3,
      "outputs": [
        {
          "output_type": "execute_result",
          "data": {
            "text/plain": [
              "<torch._C.Generator at 0x7fa5bacdecd0>"
            ]
          },
          "metadata": {
            "tags": []
          },
          "execution_count": 3
        }
      ]
    },
    {
      "cell_type": "code",
      "metadata": {
        "id": "y2yWXTVaH1jk",
        "colab_type": "code",
        "colab": {}
      },
      "source": [
        "%matplotlib inline\n",
        "import matplotlib.pyplot as plt"
      ],
      "execution_count": 0,
      "outputs": []
    },
    {
      "cell_type": "markdown",
      "metadata": {
        "id": "GKCWGI2gH1jm",
        "colab_type": "text"
      },
      "source": [
        "# 1. Data Retrieval \n",
        "## 1.1 Fetch the historical stock data from Quandl\n",
        "\n",
        "\n",
        "\n",
        "We can skip this step if the test data is pre-processed and saved. We will deserialize it from Pickle below."
      ]
    },
    {
      "cell_type": "code",
      "metadata": {
        "id": "QY6nF0CnH1jn",
        "colab_type": "code",
        "colab": {
          "base_uri": "https://localhost:8080/",
          "height": 306
        },
        "outputId": "69b3aa64-3d08-43c0-c375-7b70f31cab3f"
      },
      "source": [
        "!pip install quandl\n",
        "import quandl\n",
        "quandl.ApiConfig.api_key = \"X2rL6eP-KzTdmxBTiy14\"\n",
        "apl_stock=quandl.get('WIKI/AAPL', start_date=\"2015-05-01\", end_date=\"2020-05-01\")\n",
        "msf_stock=quandl.get('WIKI/MSFT', start_date=\"2015-05-01\", end_date=\"2020-05-01\")\n",
        "apl_open = apl_stock[\"Open\"].values\n",
        "apl_close = apl_stock[\"Close\"].values\n",
        "msf_open = msf_stock[\"Open\"].values\n",
        "msf_close = msf_stock[\"Close\"].values"
      ],
      "execution_count": 5,
      "outputs": [
        {
          "output_type": "stream",
          "text": [
            "Collecting quandl\n",
            "  Downloading https://files.pythonhosted.org/packages/07/ab/8cd479fba8a9b197a43a0d55dd534b066fb8e5a0a04b5c0384cbc5d663aa/Quandl-3.5.0-py2.py3-none-any.whl\n",
            "Requirement already satisfied: python-dateutil in /usr/local/lib/python3.6/dist-packages (from quandl) (2.8.1)\n",
            "Requirement already satisfied: six in /usr/local/lib/python3.6/dist-packages (from quandl) (1.12.0)\n",
            "Requirement already satisfied: numpy>=1.8 in /usr/local/lib/python3.6/dist-packages (from quandl) (1.18.4)\n",
            "Requirement already satisfied: more-itertools in /usr/local/lib/python3.6/dist-packages (from quandl) (8.2.0)\n",
            "Requirement already satisfied: pandas>=0.14 in /usr/local/lib/python3.6/dist-packages (from quandl) (1.0.3)\n",
            "Collecting inflection>=0.3.1\n",
            "  Downloading https://files.pythonhosted.org/packages/52/c1/36be286d85dbd76527fb613527222a795d7c071da195fa916e7bf3cb03cb/inflection-0.4.0-py2.py3-none-any.whl\n",
            "Requirement already satisfied: requests>=2.7.0 in /usr/local/lib/python3.6/dist-packages (from quandl) (2.23.0)\n",
            "Requirement already satisfied: pytz>=2017.2 in /usr/local/lib/python3.6/dist-packages (from pandas>=0.14->quandl) (2018.9)\n",
            "Requirement already satisfied: urllib3!=1.25.0,!=1.25.1,<1.26,>=1.21.1 in /usr/local/lib/python3.6/dist-packages (from requests>=2.7.0->quandl) (1.24.3)\n",
            "Requirement already satisfied: chardet<4,>=3.0.2 in /usr/local/lib/python3.6/dist-packages (from requests>=2.7.0->quandl) (3.0.4)\n",
            "Requirement already satisfied: certifi>=2017.4.17 in /usr/local/lib/python3.6/dist-packages (from requests>=2.7.0->quandl) (2020.4.5.1)\n",
            "Requirement already satisfied: idna<3,>=2.5 in /usr/local/lib/python3.6/dist-packages (from requests>=2.7.0->quandl) (2.9)\n",
            "Installing collected packages: inflection, quandl\n",
            "Successfully installed inflection-0.4.0 quandl-3.5.0\n"
          ],
          "name": "stdout"
        }
      ]
    },
    {
      "cell_type": "code",
      "metadata": {
        "id": "Q5kpHQWzH1jp",
        "colab_type": "code",
        "colab": {
          "base_uri": "https://localhost:8080/",
          "height": 235
        },
        "outputId": "7054fb7f-c06e-454b-9888-058b39145129"
      },
      "source": [
        "apl_stock.head()"
      ],
      "execution_count": 7,
      "outputs": [
        {
          "output_type": "execute_result",
          "data": {
            "text/html": [
              "<div>\n",
              "<style scoped>\n",
              "    .dataframe tbody tr th:only-of-type {\n",
              "        vertical-align: middle;\n",
              "    }\n",
              "\n",
              "    .dataframe tbody tr th {\n",
              "        vertical-align: top;\n",
              "    }\n",
              "\n",
              "    .dataframe thead th {\n",
              "        text-align: right;\n",
              "    }\n",
              "</style>\n",
              "<table border=\"1\" class=\"dataframe\">\n",
              "  <thead>\n",
              "    <tr style=\"text-align: right;\">\n",
              "      <th></th>\n",
              "      <th>Open</th>\n",
              "      <th>High</th>\n",
              "      <th>Low</th>\n",
              "      <th>Close</th>\n",
              "      <th>Volume</th>\n",
              "      <th>Ex-Dividend</th>\n",
              "      <th>Split Ratio</th>\n",
              "      <th>Adj. Open</th>\n",
              "      <th>Adj. High</th>\n",
              "      <th>Adj. Low</th>\n",
              "      <th>Adj. Close</th>\n",
              "      <th>Adj. Volume</th>\n",
              "    </tr>\n",
              "    <tr>\n",
              "      <th>Date</th>\n",
              "      <th></th>\n",
              "      <th></th>\n",
              "      <th></th>\n",
              "      <th></th>\n",
              "      <th></th>\n",
              "      <th></th>\n",
              "      <th></th>\n",
              "      <th></th>\n",
              "      <th></th>\n",
              "      <th></th>\n",
              "      <th></th>\n",
              "      <th></th>\n",
              "    </tr>\n",
              "  </thead>\n",
              "  <tbody>\n",
              "    <tr>\n",
              "      <th>2015-05-01</th>\n",
              "      <td>126.10</td>\n",
              "      <td>130.1300</td>\n",
              "      <td>125.30</td>\n",
              "      <td>128.95</td>\n",
              "      <td>58512638.0</td>\n",
              "      <td>0.00</td>\n",
              "      <td>1.0</td>\n",
              "      <td>120.264961</td>\n",
              "      <td>124.108481</td>\n",
              "      <td>119.501980</td>\n",
              "      <td>122.983083</td>\n",
              "      <td>58512638.0</td>\n",
              "    </tr>\n",
              "    <tr>\n",
              "      <th>2015-05-04</th>\n",
              "      <td>129.50</td>\n",
              "      <td>130.5700</td>\n",
              "      <td>128.26</td>\n",
              "      <td>128.70</td>\n",
              "      <td>50988278.0</td>\n",
              "      <td>0.00</td>\n",
              "      <td>1.0</td>\n",
              "      <td>123.507633</td>\n",
              "      <td>124.528120</td>\n",
              "      <td>122.325011</td>\n",
              "      <td>122.744651</td>\n",
              "      <td>50988278.0</td>\n",
              "    </tr>\n",
              "    <tr>\n",
              "      <th>2015-05-05</th>\n",
              "      <td>128.15</td>\n",
              "      <td>128.4498</td>\n",
              "      <td>125.78</td>\n",
              "      <td>125.80</td>\n",
              "      <td>49271416.0</td>\n",
              "      <td>0.00</td>\n",
              "      <td>1.0</td>\n",
              "      <td>122.220101</td>\n",
              "      <td>122.506029</td>\n",
              "      <td>119.959769</td>\n",
              "      <td>119.978843</td>\n",
              "      <td>49271416.0</td>\n",
              "    </tr>\n",
              "    <tr>\n",
              "      <th>2015-05-06</th>\n",
              "      <td>126.56</td>\n",
              "      <td>126.7500</td>\n",
              "      <td>123.36</td>\n",
              "      <td>125.01</td>\n",
              "      <td>72141010.0</td>\n",
              "      <td>0.00</td>\n",
              "      <td>1.0</td>\n",
              "      <td>120.703676</td>\n",
              "      <td>120.884884</td>\n",
              "      <td>117.651750</td>\n",
              "      <td>119.225399</td>\n",
              "      <td>72141010.0</td>\n",
              "    </tr>\n",
              "    <tr>\n",
              "      <th>2015-05-07</th>\n",
              "      <td>124.77</td>\n",
              "      <td>126.0800</td>\n",
              "      <td>124.02</td>\n",
              "      <td>125.26</td>\n",
              "      <td>43940895.0</td>\n",
              "      <td>0.52</td>\n",
              "      <td>1.0</td>\n",
              "      <td>119.490502</td>\n",
              "      <td>120.745071</td>\n",
              "      <td>118.772238</td>\n",
              "      <td>119.959769</td>\n",
              "      <td>43940895.0</td>\n",
              "    </tr>\n",
              "  </tbody>\n",
              "</table>\n",
              "</div>"
            ],
            "text/plain": [
              "              Open      High     Low  ...    Adj. Low  Adj. Close  Adj. Volume\n",
              "Date                                  ...                                     \n",
              "2015-05-01  126.10  130.1300  125.30  ...  119.501980  122.983083   58512638.0\n",
              "2015-05-04  129.50  130.5700  128.26  ...  122.325011  122.744651   50988278.0\n",
              "2015-05-05  128.15  128.4498  125.78  ...  119.959769  119.978843   49271416.0\n",
              "2015-05-06  126.56  126.7500  123.36  ...  117.651750  119.225399   72141010.0\n",
              "2015-05-07  124.77  126.0800  124.02  ...  118.772238  119.959769   43940895.0\n",
              "\n",
              "[5 rows x 12 columns]"
            ]
          },
          "metadata": {
            "tags": []
          },
          "execution_count": 7
        }
      ]
    },
    {
      "cell_type": "code",
      "metadata": {
        "id": "rdYJ-dxzKpum",
        "colab_type": "code",
        "colab": {
          "base_uri": "https://localhost:8080/",
          "height": 235
        },
        "outputId": "be35a77b-7862-4f7f-966c-6dcf65533a9b"
      },
      "source": [
        "msf_stock.head()"
      ],
      "execution_count": 8,
      "outputs": [
        {
          "output_type": "execute_result",
          "data": {
            "text/html": [
              "<div>\n",
              "<style scoped>\n",
              "    .dataframe tbody tr th:only-of-type {\n",
              "        vertical-align: middle;\n",
              "    }\n",
              "\n",
              "    .dataframe tbody tr th {\n",
              "        vertical-align: top;\n",
              "    }\n",
              "\n",
              "    .dataframe thead th {\n",
              "        text-align: right;\n",
              "    }\n",
              "</style>\n",
              "<table border=\"1\" class=\"dataframe\">\n",
              "  <thead>\n",
              "    <tr style=\"text-align: right;\">\n",
              "      <th></th>\n",
              "      <th>Open</th>\n",
              "      <th>High</th>\n",
              "      <th>Low</th>\n",
              "      <th>Close</th>\n",
              "      <th>Volume</th>\n",
              "      <th>Ex-Dividend</th>\n",
              "      <th>Split Ratio</th>\n",
              "      <th>Adj. Open</th>\n",
              "      <th>Adj. High</th>\n",
              "      <th>Adj. Low</th>\n",
              "      <th>Adj. Close</th>\n",
              "      <th>Adj. Volume</th>\n",
              "    </tr>\n",
              "    <tr>\n",
              "      <th>Date</th>\n",
              "      <th></th>\n",
              "      <th></th>\n",
              "      <th></th>\n",
              "      <th></th>\n",
              "      <th></th>\n",
              "      <th></th>\n",
              "      <th></th>\n",
              "      <th></th>\n",
              "      <th></th>\n",
              "      <th></th>\n",
              "      <th></th>\n",
              "      <th></th>\n",
              "    </tr>\n",
              "  </thead>\n",
              "  <tbody>\n",
              "    <tr>\n",
              "      <th>2015-05-01</th>\n",
              "      <td>48.58</td>\n",
              "      <td>48.875</td>\n",
              "      <td>48.40</td>\n",
              "      <td>48.655</td>\n",
              "      <td>38937336.0</td>\n",
              "      <td>0.0</td>\n",
              "      <td>1.0</td>\n",
              "      <td>45.351690</td>\n",
              "      <td>45.627087</td>\n",
              "      <td>45.183652</td>\n",
              "      <td>45.421706</td>\n",
              "      <td>38937336.0</td>\n",
              "    </tr>\n",
              "    <tr>\n",
              "      <th>2015-05-04</th>\n",
              "      <td>48.37</td>\n",
              "      <td>48.870</td>\n",
              "      <td>48.18</td>\n",
              "      <td>48.240</td>\n",
              "      <td>34039485.0</td>\n",
              "      <td>0.0</td>\n",
              "      <td>1.0</td>\n",
              "      <td>45.155646</td>\n",
              "      <td>45.622419</td>\n",
              "      <td>44.978272</td>\n",
              "      <td>45.034285</td>\n",
              "      <td>34039485.0</td>\n",
              "    </tr>\n",
              "    <tr>\n",
              "      <th>2015-05-05</th>\n",
              "      <td>47.82</td>\n",
              "      <td>48.160</td>\n",
              "      <td>47.31</td>\n",
              "      <td>47.600</td>\n",
              "      <td>50369191.0</td>\n",
              "      <td>0.0</td>\n",
              "      <td>1.0</td>\n",
              "      <td>44.642195</td>\n",
              "      <td>44.959601</td>\n",
              "      <td>44.166086</td>\n",
              "      <td>44.436815</td>\n",
              "      <td>50369191.0</td>\n",
              "    </tr>\n",
              "    <tr>\n",
              "      <th>2015-05-06</th>\n",
              "      <td>47.57</td>\n",
              "      <td>47.770</td>\n",
              "      <td>46.02</td>\n",
              "      <td>46.280</td>\n",
              "      <td>52433020.0</td>\n",
              "      <td>0.0</td>\n",
              "      <td>1.0</td>\n",
              "      <td>44.408808</td>\n",
              "      <td>44.595518</td>\n",
              "      <td>42.961811</td>\n",
              "      <td>43.204533</td>\n",
              "      <td>52433020.0</td>\n",
              "    </tr>\n",
              "    <tr>\n",
              "      <th>2015-05-07</th>\n",
              "      <td>46.27</td>\n",
              "      <td>47.085</td>\n",
              "      <td>46.16</td>\n",
              "      <td>46.700</td>\n",
              "      <td>32971654.0</td>\n",
              "      <td>0.0</td>\n",
              "      <td>1.0</td>\n",
              "      <td>43.195198</td>\n",
              "      <td>43.956038</td>\n",
              "      <td>43.092508</td>\n",
              "      <td>43.596623</td>\n",
              "      <td>32971654.0</td>\n",
              "    </tr>\n",
              "  </tbody>\n",
              "</table>\n",
              "</div>"
            ],
            "text/plain": [
              "             Open    High    Low  ...   Adj. Low  Adj. Close  Adj. Volume\n",
              "Date                              ...                                    \n",
              "2015-05-01  48.58  48.875  48.40  ...  45.183652   45.421706   38937336.0\n",
              "2015-05-04  48.37  48.870  48.18  ...  44.978272   45.034285   34039485.0\n",
              "2015-05-05  47.82  48.160  47.31  ...  44.166086   44.436815   50369191.0\n",
              "2015-05-06  47.57  47.770  46.02  ...  42.961811   43.204533   52433020.0\n",
              "2015-05-07  46.27  47.085  46.16  ...  43.092508   43.596623   32971654.0\n",
              "\n",
              "[5 rows x 12 columns]"
            ]
          },
          "metadata": {
            "tags": []
          },
          "execution_count": 8
        }
      ]
    },
    {
      "cell_type": "markdown",
      "metadata": {
        "id": "qwh0rYLKH1jr",
        "colab_type": "text"
      },
      "source": [
        "# 2. Data Preparation\n",
        "## 2.1 Examine the data"
      ]
    },
    {
      "cell_type": "code",
      "metadata": {
        "id": "mxqCb33ZH1jr",
        "colab_type": "code",
        "colab": {
          "base_uri": "https://localhost:8080/",
          "height": 282
        },
        "outputId": "dc6b63e7-e657-41a9-c111-379ce74b2f81"
      },
      "source": [
        "plt.plot(range(0, len(msf_open)), msf_open)"
      ],
      "execution_count": 9,
      "outputs": [
        {
          "output_type": "execute_result",
          "data": {
            "text/plain": [
              "[<matplotlib.lines.Line2D at 0x7fa5b9c49b70>]"
            ]
          },
          "metadata": {
            "tags": []
          },
          "execution_count": 9
        },
        {
          "output_type": "display_data",
          "data": {
            "image/png": "[encoded data removed]",
            "text/plain": [
              "<Figure size 432x288 with 1 Axes>"
            ]
          },
          "metadata": {
            "tags": [],
            "needs_background": "light"
          }
        }
      ]
    },
    {
      "cell_type": "code",
      "metadata": {
        "id": "HVSdjsCfH1ju",
        "colab_type": "code",
        "colab": {
          "base_uri": "https://localhost:8080/",
          "height": 282
        },
        "outputId": "6dd660bb-2094-428b-f9a0-b6aeacc4f322"
      },
      "source": [
        "plt.plot(range(0, len(apl_open)), apl_open)"
      ],
      "execution_count": 10,
      "outputs": [
        {
          "output_type": "execute_result",
          "data": {
            "text/plain": [
              "[<matplotlib.lines.Line2D at 0x7fa5b971e320>]"
            ]
          },
          "metadata": {
            "tags": []
          },
          "execution_count": 10
        },
        {
          "output_type": "display_data",
          "data": {
            "image/png": "[encoded data removed]",
            "text/plain": [
              "<Figure size 432x288 with 1 Axes>"
            ]
          },
          "metadata": {
            "tags": [],
            "needs_background": "light"
          }
        }
      ]
    },
    {
      "cell_type": "markdown",
      "metadata": {
        "id": "bJpAggldH1j2",
        "colab_type": "text"
      },
      "source": [
        "\n",
        "## 2.2 Remove the general upwards trend.\n",
        "\n",
        "* The current values for MSFT and AAPL are on completely different scales.\n",
        "* In order to bring both stocks on similar scalre, we need to de-trend the data.\n",
        "* We will use SciPy's signal processing module to apply linear least-squares model to the data.\n",
        "* This is importabt to train the model to learn the fundamentals of the stock signal - buy if it's going to rise. If we didn't remove the trend, maybe it'd only learn to buy at the start and hold til the end since a general upwards trend happens."
      ]
    },
    {
      "cell_type": "code",
      "metadata": {
        "id": "BJodRGEVH1j3",
        "colab_type": "code",
        "colab": {
          "base_uri": "https://localhost:8080/",
          "height": 282
        },
        "outputId": "7070a469-4603-4e0e-fd11-36e861d8f7b4"
      },
      "source": [
        "msf_open = signal.detrend(msf_open)\n",
        "msf_close = signal.detrend(msf_close)\n",
        "plt.plot(range(0,len(msf_open)), msf_open)"
      ],
      "execution_count": 11,
      "outputs": [
        {
          "output_type": "execute_result",
          "data": {
            "text/plain": [
              "[<matplotlib.lines.Line2D at 0x7fa5b97073c8>]"
            ]
          },
          "metadata": {
            "tags": []
          },
          "execution_count": 11
        },
        {
          "output_type": "display_data",
          "data": {
            "image/png": "[encoded data removed]",
            "text/plain": [
              "<Figure size 432x288 with 1 Axes>"
            ]
          },
          "metadata": {
            "tags": [],
            "needs_background": "light"
          }
        }
      ]
    },
    {
      "cell_type": "code",
      "metadata": {
        "id": "BITF2R7gH1j6",
        "colab_type": "code",
        "colab": {
          "base_uri": "https://localhost:8080/",
          "height": 282
        },
        "outputId": "c0883e6d-17f4-4034-a91c-ef0612744fdb"
      },
      "source": [
        "apl_open = signal.detrend(apl_open)\n",
        "apl_close = signal.detrend(apl_close)\n",
        "plt.plot(range(0, len(apl_open)), apl_open)"
      ],
      "execution_count": 12,
      "outputs": [
        {
          "output_type": "execute_result",
          "data": {
            "text/plain": [
              "[<matplotlib.lines.Line2D at 0x7fa5b9662550>]"
            ]
          },
          "metadata": {
            "tags": []
          },
          "execution_count": 12
        },
        {
          "output_type": "display_data",
          "data": {
            "image/png": "[encoded data removed]",
            "text/plain": [
              "<Figure size 432x288 with 1 Axes>"
            ]
          },
          "metadata": {
            "tags": [],
            "needs_background": "light"
          }
        }
      ]
    },
    {
      "cell_type": "markdown",
      "metadata": {
        "id": "3YMSr-T8H1j7",
        "colab_type": "text"
      },
      "source": [
        "## 2.3 Avoid Negative values after detrend\n",
        "\n",
        "It doesn't make sense to buy a share at a negative value. But since the model will learn to maximize reward, we can just shift it up by a constant number so it's always positive."
      ]
    },
    {
      "cell_type": "code",
      "metadata": {
        "id": "MFPM2L_DH1j8",
        "colab_type": "code",
        "colab": {
          "base_uri": "https://localhost:8080/",
          "height": 85
        },
        "outputId": "4068ecef-e29e-46f8-e32a-5638ec22751c"
      },
      "source": [
        "print(apl_open.min())\n",
        "print(apl_close.min())\n",
        "print(msf_open.min())\n",
        "print(msf_close.min())"
      ],
      "execution_count": 13,
      "outputs": [
        {
          "output_type": "stream",
          "text": [
            "-29.34566974377448\n",
            "-30.131683913850694\n",
            "-8.798537668139339\n",
            "-9.2545289813689\n"
          ],
          "name": "stdout"
        }
      ]
    },
    {
      "cell_type": "markdown",
      "metadata": {
        "id": "H9MWs6jxH1j9",
        "colab_type": "text"
      },
      "source": [
        "Choose 35"
      ]
    },
    {
      "cell_type": "code",
      "metadata": {
        "id": "UAD9UgmmH1j9",
        "colab_type": "code",
        "colab": {}
      },
      "source": [
        "apl_open += 35.\n",
        "apl_close += 35.\n",
        "msf_open += 35.\n",
        "msf_close += 35."
      ],
      "execution_count": 0,
      "outputs": []
    },
    {
      "cell_type": "markdown",
      "metadata": {
        "id": "DXSEKmM3H1j-",
        "colab_type": "text"
      },
      "source": [
        "## 2.4 Save the processed/transformed data"
      ]
    },
    {
      "cell_type": "code",
      "metadata": {
        "id": "t65c1jLPH1j-",
        "colab_type": "code",
        "colab": {}
      },
      "source": [
        "import pickle\n",
        "with open(\"cmpe297-wows-data.pkl\", \"wb+\") as f:\n",
        "    pickle.dump({\"ao\":apl_open, \"ac\": apl_close, \"mo\": msf_open, \"mc\": msf_close}, f)"
      ],
      "execution_count": 0,
      "outputs": []
    },
    {
      "cell_type": "markdown",
      "metadata": {
        "id": "csSldKl-H1j_",
        "colab_type": "text"
      },
      "source": [
        "## 2.5 Load processed/transformed data"
      ]
    },
    {
      "cell_type": "code",
      "metadata": {
        "id": "GgBBwMVUH1j_",
        "colab_type": "code",
        "colab": {}
      },
      "source": [
        "import pickle\n",
        "with open(\"cmpe297-wows-data.pkl\", \"rb\") as f:\n",
        "    d = pickle.load(f)\n",
        "apl_open = d[\"ao\"]\n",
        "apl_close = d[\"ac\"]\n",
        "msf_open = d[\"mo\"]\n",
        "msf_close = d[\"mc\"]"
      ],
      "execution_count": 0,
      "outputs": []
    },
    {
      "cell_type": "code",
      "metadata": {
        "id": "OodyYOnzH1kB",
        "colab_type": "code",
        "colab": {
          "base_uri": "https://localhost:8080/",
          "height": 282
        },
        "outputId": "a43c92e1-acea-493f-d072-0e49450b9e8d"
      },
      "source": [
        "plt.plot(range(0,len(apl_open)), apl_open)"
      ],
      "execution_count": 17,
      "outputs": [
        {
          "output_type": "execute_result",
          "data": {
            "text/plain": [
              "[<matplotlib.lines.Line2D at 0x7fa5b9648908>]"
            ]
          },
          "metadata": {
            "tags": []
          },
          "execution_count": 17
        },
        {
          "output_type": "display_data",
          "data": {
            "image/png": "[encoded data removed]",
            "text/plain": [
              "<Figure size 432x288 with 1 Axes>"
            ]
          },
          "metadata": {
            "tags": [],
            "needs_background": "light"
          }
        }
      ]
    },
    {
      "cell_type": "markdown",
      "metadata": {
        "id": "KKq5Ty6_H1kC",
        "colab_type": "text"
      },
      "source": [
        "# Build the environment\n",
        "\n",
        "* For starting cash, we can't use a dollar value because of the transformed data. After shifting earlier, we know the mean of each opening price should be 35, so I'm starting the agent off with enough cash to buy ~2.5 shares.\n",
        "* This starting cash is the mean starting cash; it can be randomized by altering the std parameter\n",
        "* action space = 0 buy apple, 1 sell apple, 2 do nothing, 3 buy msft, 4 sell msft, quantity. eg. [0, 100]\n",
        "* obs space: apl shares, msft shares, cash in bank [2], today apl open [3], today msf open [4], portfolio value [5], 5 day window [6apl, 7msf] = 8\n",
        "* If bot gets to the end with more than one of each share, we give it a bonus for having a diversified portfolio!\n",
        "* Buys and sells attract a 10% brokerage fee"
      ]
    },
    {
      "cell_type": "code",
      "metadata": {
        "id": "sOtEg0h1H1kC",
        "colab_type": "code",
        "colab": {}
      },
      "source": [
        "class TradingEnvironment():\n",
        "\n",
        "    def __init__(self, starting_cash_mean=200., max_stride=5, series_length=208, starting_point=1, randomize_cash_std=0, \\\n",
        "                 starting_shares_mean=0., randomize_shares_std=0., inaction_penalty=0.):\n",
        "        self.starting_shares_mean = starting_shares_mean\n",
        "        self.randomize_shares_std = randomize_shares_std\n",
        "        self.starting_cash_mean = starting_cash_mean\n",
        "        self.randomize_cash_std = randomize_cash_std\n",
        "        \n",
        "        self.state = torch.FloatTensor(torch.zeros(8)).cuda()\n",
        "        \n",
        "        self.starting_cash = max(int(np.random.normal(self.starting_cash_mean, self.randomize_cash_std)), 0.)\n",
        "        \n",
        "        self.series_length = series_length\n",
        "        self.starting_point = starting_point\n",
        "        self.cur_timestep = self.starting_point\n",
        "        \n",
        "        self.state[0] = max(int(np.random.normal(self.starting_shares_mean, self.randomize_shares_std)), 0.)\n",
        "        self.state[1] = max(int(np.random.normal(self.starting_shares_mean, self.randomize_shares_std)), 0.)\n",
        "        self.starting_portfolio_value = self.portfolio_value()\n",
        "        self.state[2] = self.starting_cash\n",
        "        self.state[3] = apl_open[self.cur_timestep]\n",
        "        self.state[4] = msf_open[self.cur_timestep]\n",
        "        self.state[5] = self.starting_portfolio_value\n",
        "        self.state[6] = self.five_day_window()[0]\n",
        "        self.state[7] = self.five_day_window()[1]\n",
        "        \n",
        "        self.max_stride = max_stride\n",
        "        self.stride = self.max_stride # no longer varying it\n",
        "        \n",
        "        self.done = False\n",
        "        self.diversification_bonus = 1.\n",
        "        self.inaction_penalty = inaction_penalty\n",
        "    \n",
        "    def portfolio_value(self):\n",
        "        return (self.state[0] * apl_close[self.cur_timestep]) + (self.state[1] * msf_close[self.cur_timestep]) + self.state[2]\n",
        "    \n",
        "    def next_opening_price(self):\n",
        "        step = self.cur_timestep + self.stride\n",
        "        return [apl_open[step], msf_open[step]]\n",
        "    \n",
        "    def five_day_window(self):\n",
        "        step = self.cur_timestep\n",
        "        if step < 5:\n",
        "            return [apl_open[0], msf_open[0]]\n",
        "        apl5 = apl_open[step-5:step].mean()\n",
        "        msf5 = msf_open[step-5:step].mean()\n",
        "        return [apl5, msf5]\n",
        "    \n",
        "    def step(self, action):\n",
        "        action = [action, 1.]\n",
        "        cur_timestep = self.cur_timestep\n",
        "        ts_left = self.series_length - (cur_timestep - self.starting_point)\n",
        "        retval = None\n",
        "        cur_value = self.portfolio_value()\n",
        "        gain = cur_value - self.starting_portfolio_value\n",
        "        \n",
        "        if cur_timestep >= self.starting_point + (self.series_length * self.stride):\n",
        "            new_state = [self.state[0], self.state[1], self.state[2], *self.next_opening_price(), \\\n",
        "                        cur_value, *self.five_day_window()]\n",
        "            self.state = new_state\n",
        "            bonus = 0.\n",
        "            if self.state[0] > 0 and self.state[1] > 0:\n",
        "                bonus = self.diversification_bonus\n",
        "            return new_state, cur_value + bonus + gain, True, { \"msg\": \"done\"}\n",
        "        \n",
        "        if action[0] == 2:\n",
        "            new_state = [self.state[0], self.state[1], self.state[2], *self.next_opening_price(), \\\n",
        "                    cur_value, *self.five_day_window()]\n",
        "            self.state = new_state\n",
        "            retval = new_state, -self.inaction_penalty-ts_left +gain, False, { \"msg\": \"nothing\" }\n",
        "            \n",
        "        if action[0] == 0:\n",
        "            if action[1] * apl_open[cur_timestep] > self.state[2]:\n",
        "                new_state = [self.state[0], self.state[1], self.state[2], *self.next_opening_price(), \\\n",
        "                        cur_value, *self.five_day_window()]\n",
        "                self.state = new_state\n",
        "                retval = new_state, -ts_left+gain/2, True, { \"msg\": \"bankrupted self\"}\n",
        "            else:\n",
        "                apl_shares = self.state[0] + action[1]\n",
        "                cash_spent = action[1] * apl_open[cur_timestep] * 1.1\n",
        "                new_state = [apl_shares, self.state[1], self.state[2] - cash_spent, *self.next_opening_price(), \\\n",
        "                       cur_value, *self.five_day_window()]\n",
        "                self.state = new_state\n",
        "                retval = new_state, self.inaction_penalty-ts_left+gain, False, { \"msg\": \"bought AAPL\"}\n",
        "                \n",
        "        if action[0] == 3:\n",
        "            if action[1] * msf_open[cur_timestep] > self.state[2]:\n",
        "                new_state = [self.state[0], self.state[1], self.state[2], *self.next_opening_price(), \\\n",
        "                        cur_value, *self.five_day_window()]\n",
        "                self.state = new_state\n",
        "                retval =  new_state, -ts_left+gain/2, True, { \"msg\": \"bankrupted self\"}\n",
        "            else:\n",
        "                msf_shares = self.state[1] + action[1]\n",
        "                cash_spent = action[1] * msf_open[cur_timestep] * 1.1\n",
        "                new_state = [self.state[0], msf_shares, self.state[2] - cash_spent, *self.next_opening_price(), \\\n",
        "                       cur_value, *self.five_day_window()]\n",
        "                self.state = new_state\n",
        "                retval = new_state, self.inaction_penalty-ts_left+gain, False, { \"msg\": \"bought MSFT\"}\n",
        "        \n",
        "\n",
        "        if action[0] == 1:\n",
        "            if action[1] > self.state[0]:\n",
        "                new_state = [self.state[0], self.state[1], self.state[2], *self.next_opening_price(), \\\n",
        "                        cur_value, *self.five_day_window()]\n",
        "                self.state = new_state\n",
        "                retval = new_state, -ts_left+gain/2, True, { \"msg\": \"sold more than have\"}\n",
        "            else:\n",
        "                apl_shares = self.state[0] - action[1]\n",
        "                cash_gained = action[1] * apl_open[cur_timestep] * 0.9\n",
        "                new_state = [apl_shares, self.state[1], self.state[2] + cash_gained, *self.next_opening_price(), \\\n",
        "                       cur_value, *self.five_day_window()]\n",
        "                self.state = new_state\n",
        "                retval = new_state, self.inaction_penalty-ts_left+gain, False, { \"msg\": \"sold AAPL\"}\n",
        "                \n",
        "        if action[0] == 4:\n",
        "            if action[1] > self.state[1]:\n",
        "                new_state = [self.state[0], self.state[1], self.state[2], *self.next_opening_price(), \\\n",
        "                        cur_value, *self.five_day_window()]\n",
        "                self.state = new_state\n",
        "                retval = new_state, -ts_left+gain/2, True, { \"msg\": \"sold more than have\"}\n",
        "            else:\n",
        "                msf_shares = self.state[1] - action[1]\n",
        "                cash_gained = action[1] * msf_open[cur_timestep] * 0.9\n",
        "                new_state = [self.state[0], msf_shares, self.state[2] + cash_gained, *self.next_opening_price(), \\\n",
        "                       cur_value, *self.five_day_window()]\n",
        "                self.state = new_state\n",
        "                retval = new_state, self.inaction_penalty-ts_left+gain, False, { \"msg\": \"sold MSFT\"}\n",
        "                \n",
        "        self.cur_timestep += self.stride\n",
        "        return retval\n",
        "    \n",
        "    def reset(self):\n",
        "        self.state = torch.FloatTensor(torch.zeros(8)).cuda()\n",
        "        self.starting_cash = max(int(np.random.normal(self.starting_cash_mean, self.randomize_cash_std)), 0.)\n",
        "        self.cur_timestep = self.starting_point\n",
        "        self.state[0] = max(int(np.random.normal(self.starting_shares_mean, self.randomize_shares_std)), 0.)\n",
        "        self.state[1] = max(int(np.random.normal(self.starting_shares_mean, self.randomize_shares_std)), 0.)\n",
        "        self.state[2] = self.starting_cash\n",
        "        self.state[3] = apl_open[self.cur_timestep]\n",
        "        self.state[4] = msf_open[self.cur_timestep]\n",
        "        self.starting_portfolio_value = self.portfolio_value()\n",
        "        self.state[5] = self.starting_portfolio_value\n",
        "        self.state[6] = self.five_day_window()[0]\n",
        "        self.state[7] = self.five_day_window()[1]       \n",
        "        self.done = False\n",
        "        return self.state"
      ],
      "execution_count": 0,
      "outputs": []
    },
    {
      "cell_type": "code",
      "metadata": {
        "id": "z-1vIND_H1kD",
        "colab_type": "code",
        "colab": {}
      },
      "source": [
        "class Policy(nn.Module):\n",
        "    def __init__(self):\n",
        "        super(Policy, self).__init__()\n",
        "        self.input_layer = nn.Linear(8, 128)\n",
        "        self.hidden_1 = nn.Linear(128, 128)\n",
        "        self.hidden_2 = nn.Linear(32,31)\n",
        "        self.hidden_state = torch.tensor(torch.zeros(2,1,32)).cuda()\n",
        "        self.rnn = nn.GRU(128, 32, 2)\n",
        "        self.action_head = nn.Linear(31, 5)\n",
        "        self.value_head = nn.Linear(31, 1)\n",
        "        self.saved_actions = []\n",
        "        self.rewards = []\n",
        "\n",
        "    def reset_hidden(self):\n",
        "        self.hidden_state = torch.tensor(torch.zeros(2,1,32)).cuda()\n",
        "        \n",
        "    def forward(self, x):\n",
        "        x = torch.tensor(x).cuda()\n",
        "        x = torch.sigmoid(self.input_layer(x))\n",
        "        x = torch.tanh(self.hidden_1(x))\n",
        "        x, self.hidden_state = self.rnn(x.view(1,-1,128), self.hidden_state.data)\n",
        "        x = F.relu(self.hidden_2(x.squeeze()))\n",
        "        action_scores = self.action_head(x)\n",
        "        state_values = self.value_head(x)\n",
        "        return F.softmax(action_scores, dim=-1), state_values\n",
        "    \n",
        "    def act(self, state):\n",
        "        probs, state_value = self.forward(state)\n",
        "        m = Categorical(probs)\n",
        "        action = m.sample()\n",
        "        if action == 1 and env.state[0] < 1: action = torch.LongTensor([2]).squeeze().cuda()\n",
        "        if action == 4 and env.state[1] < 1: action = torch.LongTensor([2]).squeeze().cuda()\n",
        "        self.saved_actions.append((m.log_prob(action), state_value))\n",
        "        return action.item()"
      ],
      "execution_count": 0,
      "outputs": []
    },
    {
      "cell_type": "code",
      "metadata": {
        "id": "SgnH2n8JH1kE",
        "colab_type": "code",
        "colab": {}
      },
      "source": [
        "env = TradingEnvironment(max_stride=4, series_length=250, starting_cash_mean=1000, randomize_cash_std=100, starting_shares_mean=100, randomize_shares_std=10)\n",
        "model = Policy().cuda()\n",
        "optimizer = optim.Adam(model.parameters(), lr=3e-4)"
      ],
      "execution_count": 0,
      "outputs": []
    },
    {
      "cell_type": "code",
      "metadata": {
        "id": "N8IqbhoiH1kF",
        "colab_type": "code",
        "colab": {},
        "outputId": "5df3fc91-5b8f-471a-9576-d4dae3935f78"
      },
      "source": [
        "env.reset()\n",
        "del model.rewards[:]\n",
        "del model.saved_actions[:]\n",
        "\n",
        "gamma = 0.9\n",
        "log_interval = 60\n",
        "\n",
        "def finish_episode():\n",
        "    R = 0\n",
        "    saved_actions = model.saved_actions\n",
        "    policy_losses = []\n",
        "    value_losses = []\n",
        "    rewards = []\n",
        "    for r in model.rewards[::-1]:\n",
        "        R = r + (gamma * R)\n",
        "        rewards.insert(0, R)\n",
        "    rewards = torch.tensor(rewards)\n",
        "    \n",
        "    epsilon = (torch.rand(1) / 1e4) - 5e-5\n",
        "    rewards += epsilon\n",
        "    \n",
        "    for (log_prob, value), r in zip(saved_actions, rewards):\n",
        "        reward = torch.tensor(r - value.item()).cuda()\n",
        "        policy_losses.append(-log_prob * reward)\n",
        "        value_losses.append(F.smooth_l1_loss(value, torch.tensor([r]).cuda()))\n",
        "        \n",
        "    optimizer.zero_grad()\n",
        "    loss = torch.stack(policy_losses).sum() + torch.stack(value_losses).sum()\n",
        "    loss = torch.clamp(loss, -1e-5, 1e5)\n",
        "    loss.backward()\n",
        "    optimizer.step()\n",
        "    del model.rewards[:]\n",
        "    del model.saved_actions[:]\n",
        "\n",
        "running_reward = 0\n",
        "for episode in range(0, 4000):\n",
        "    state = env.reset()\n",
        "    reward = 0\n",
        "    done = False\n",
        "    msg = None\n",
        "    while not done:\n",
        "        action = model.act(state)\n",
        "        state, reward, done, msg = env.step(action)\n",
        "        model.rewards.append(reward)\n",
        "        if done:\n",
        "            break\n",
        "    running_reward = running_reward * (1 - 1/log_interval) + reward * (1/log_interval)\n",
        "    finish_episode()\n",
        "\n",
        "    if msg[\"msg\"] == \"done\" and env.portfolio_value() > env.starting_portfolio_value * 1.1 and running_reward > 500:\n",
        "        print(\"Early Stopping: \" + str(int(reward)))\n",
        "        break\n",
        "    if episode % log_interval == 0:\n",
        "        print(\"\"\"Episode {}: started at {:.1f}, finished at {:.1f} because {} @ t={}, \\\n",
        "last reward {:.1f}, running reward {:.1f}\"\"\".format(episode, env.starting_portfolio_value, \\\n",
        "              env.portfolio_value(), msg[\"msg\"], env.cur_timestep, reward, running_reward))"
      ],
      "execution_count": 0,
      "outputs": [
        {
          "output_type": "stream",
          "text": [
            "Episode 0: started at 7614.8, finished at 9186.3 because bankrupted self @ t=341, last reward 795.2, running reward 13.3\n",
            "Early Stopping: 12195\n"
          ],
          "name": "stdout"
        }
      ]
    },
    {
      "cell_type": "markdown",
      "metadata": {
        "id": "P6scwRyUH1kG",
        "colab_type": "text"
      },
      "source": [
        "## Let's see how it does in practice, on the training data"
      ]
    },
    {
      "cell_type": "code",
      "metadata": {
        "id": "ExjmzLnNH1kG",
        "colab_type": "code",
        "colab": {},
        "outputId": "a2ce4812-7fcc-4a47-fb52-e5aad8c5bd57"
      },
      "source": [
        "env = TradingEnvironment(max_stride=4, series_length=250, starting_cash_mean=1000, randomize_cash_std=100, starting_shares_mean=100, randomize_shares_std=10)\n",
        "\n",
        "total_rewards = 0\n",
        "total_profits = 0\n",
        "failed_goes = 0\n",
        "num_goes = 50\n",
        "\n",
        "for j in range(num_goes):\n",
        "    env.reset()\n",
        "    reward_this_go = -1e8\n",
        "    for i in range(0,env.series_length + 1):\n",
        "        action = model.act(env.state)\n",
        "        next_state, reward, done, msg = env.step(action)\n",
        "        if msg[\"msg\"] == \"done\":\n",
        "            reward_this_go = env.portfolio_value()\n",
        "            break\n",
        "        if done:\n",
        "            break\n",
        "    total_profits += (env.portfolio_value() - env.starting_portfolio_value) / env.starting_portfolio_value\n",
        "    if reward_this_go == -1e8:\n",
        "        failed_goes += 1\n",
        "    else:\n",
        "        total_rewards += reward_this_go\n",
        "\n",
        "if failed_goes == num_goes:\n",
        "    print(\"Failed all\")\n",
        "else:\n",
        "    print(\"Failed goes: {} / {}, Avg Rewards per successful game: {}\".format(failed_goes, num_goes, total_rewards / (num_goes - failed_goes)))\n",
        "    print(\"Avg % profit per game: {}\".format(total_profits / num_goes))\n",
        "    print(\"Avg % profit per finished game: {}\".format(total_profits / (num_goes - failed_goes)))"
      ],
      "execution_count": 0,
      "outputs": [
        {
          "output_type": "stream",
          "text": [
            "Failed goes: 38 / 50, Avg Rewards per successful game: 9991.302734375\n",
            "Avg % profit per game: 0.03858374431729317\n",
            "Avg % profit per finished game: 0.1607656180858612\n"
          ],
          "name": "stdout"
        }
      ]
    },
    {
      "cell_type": "markdown",
      "metadata": {
        "id": "jMr-Q4ZaH1kH",
        "colab_type": "text"
      },
      "source": [
        "## And here's how a sample trading run might look"
      ]
    },
    {
      "cell_type": "code",
      "metadata": {
        "id": "zeSChwDKH1kH",
        "colab_type": "code",
        "colab": {},
        "outputId": "d242ebb8-9b0f-42c9-cf59-5d686e9f0dce"
      },
      "source": [
        "env = TradingEnvironment(max_stride=4, series_length=250, starting_cash_mean=1000, randomize_cash_std=100, starting_shares_mean=100, randomize_shares_std=10)\n",
        "env.reset()\n",
        "print(\"starting portfolio value {}\".format(env.portfolio_value()))\n",
        "for i in range(0,env.series_length + 1):\n",
        "    action = model.act(env.state)\n",
        "    next_state, reward, done, msg = env.step(action)\n",
        "    if msg[\"msg\"] == 'bankrupted self':\n",
        "        print('bankrupted self by 1')\n",
        "        break\n",
        "    if msg[\"msg\"] == 'sold more than have':\n",
        "        print('sold more than have by 1')\n",
        "        break\n",
        "    print(\"{}, have {} aapl and {} msft and {} cash\".format(msg[\"msg\"], next_state[0], next_state[1], next_state[2]))\n",
        "    if msg[\"msg\"] == \"done\":\n",
        "        print(next_state, reward)\n",
        "        print(\"total portfolio value {}\".format(env.portfolio_value()))\n",
        "        break"
      ],
      "execution_count": 0,
      "outputs": [
        {
          "output_type": "stream",
          "text": [
            "starting portfolio value 7823.3896484375\n",
            "bought AAPL, have 103.0 aapl and 93.0 msft and 1031.80224609375 cash\n",
            "bought MSFT, have 103.0 aapl and 94.0 msft and 989.755859375 cash\n",
            "sold MSFT, have 103.0 aapl and 93.0 msft and 1024.0152587890625 cash\n",
            "sold MSFT, have 103.0 aapl and 92.0 msft and 1058.4384765625 cash\n",
            "bought MSFT, have 103.0 aapl and 93.0 msft and 1016.7153930664062 cash\n",
            "sold AAPL, have 102.0 aapl and 93.0 msft and 1037.769775390625 cash\n",
            "nothing, have 102.0 aapl and 93.0 msft and 1037.769775390625 cash\n",
            "sold AAPL, have 101.0 aapl and 93.0 msft and 1062.431640625 cash\n",
            "sold MSFT, have 101.0 aapl and 92.0 msft and 1097.2330322265625 cash\n",
            "bought AAPL, have 102.0 aapl and 92.0 msft and 1069.454345703125 cash\n",
            "bought MSFT, have 102.0 aapl and 93.0 msft and 1026.6177978515625 cash\n",
            "nothing, have 102.0 aapl and 93.0 msft and 1026.6177978515625 cash\n",
            "bought AAPL, have 103.0 aapl and 93.0 msft and 998.9660034179688 cash\n",
            "bought AAPL, have 104.0 aapl and 93.0 msft and 971.4549560546875 cash\n",
            "sold MSFT, have 104.0 aapl and 92.0 msft and 1007.914306640625 cash\n",
            "sold AAPL, have 103.0 aapl and 92.0 msft and 1030.9219970703125 cash\n",
            "bought AAPL, have 104.0 aapl and 92.0 msft and 1004.6456909179688 cash\n",
            "sold AAPL, have 103.0 aapl and 92.0 msft and 1024.7281494140625 cash\n",
            "sold MSFT, have 103.0 aapl and 91.0 msft and 1060.123779296875 cash\n",
            "bought AAPL, have 104.0 aapl and 91.0 msft and 1028.4727783203125 cash\n",
            "sold AAPL, have 103.0 aapl and 91.0 msft and 1057.25341796875 cash\n",
            "bought AAPL, have 104.0 aapl and 91.0 msft and 1020.9512939453125 cash\n",
            "sold AAPL, have 103.0 aapl and 91.0 msft and 1048.556640625 cash\n",
            "bought AAPL, have 104.0 aapl and 91.0 msft and 1014.9512939453125 cash\n",
            "bought MSFT, have 104.0 aapl and 92.0 msft and 972.5565185546875 cash\n",
            "sold AAPL, have 103.0 aapl and 92.0 msft and 1004.5811157226562 cash\n",
            "bought MSFT, have 103.0 aapl and 93.0 msft and 962.6658935546875 cash\n",
            "bought AAPL, have 104.0 aapl and 93.0 msft and 918.611083984375 cash\n",
            "bought MSFT, have 104.0 aapl and 94.0 msft and 876.1743774414062 cash\n",
            "sold MSFT, have 104.0 aapl and 93.0 msft and 911.0996704101562 cash\n",
            "bought AAPL, have 105.0 aapl and 93.0 msft and 872.78173828125 cash\n",
            "bought AAPL, have 106.0 aapl and 93.0 msft and 830.9329223632812 cash\n",
            "sold MSFT, have 106.0 aapl and 92.0 msft and 865.8591918945312 cash\n",
            "sold MSFT, have 106.0 aapl and 91.0 msft and 900.9402465820312 cash\n",
            "sold MSFT, have 106.0 aapl and 90.0 msft and 937.8681640625 cash\n",
            "sold MSFT, have 106.0 aapl and 89.0 msft and 974.4019165039062 cash\n",
            "bought AAPL, have 107.0 aapl and 89.0 msft and 930.4967651367188 cash\n",
            "nothing, have 107.0 aapl and 89.0 msft and 930.4967651367188 cash\n",
            "nothing, have 107.0 aapl and 89.0 msft and 930.4967651367188 cash\n",
            "sold MSFT, have 107.0 aapl and 88.0 msft and 966.9658203125 cash\n",
            "bought AAPL, have 108.0 aapl and 88.0 msft and 920.8721313476562 cash\n",
            "sold AAPL, have 107.0 aapl and 88.0 msft and 959.49853515625 cash\n",
            "sold AAPL, have 106.0 aapl and 88.0 msft and 995.40234375 cash\n",
            "bought MSFT, have 106.0 aapl and 89.0 msft and 949.5440063476562 cash\n",
            "nothing, have 106.0 aapl and 89.0 msft and 949.5440063476562 cash\n",
            "bought MSFT, have 106.0 aapl and 90.0 msft and 903.54931640625 cash\n",
            "bought AAPL, have 107.0 aapl and 90.0 msft and 861.2734375 cash\n",
            "bought AAPL, have 108.0 aapl and 90.0 msft and 818.4971923828125 cash\n",
            "bought AAPL, have 109.0 aapl and 90.0 msft and 776.5955200195312 cash\n",
            "bought AAPL, have 110.0 aapl and 90.0 msft and 733.2144775390625 cash\n",
            "nothing, have 110.0 aapl and 90.0 msft and 733.2144775390625 cash\n",
            "bought MSFT, have 110.0 aapl and 91.0 msft and 688.911376953125 cash\n",
            "bought MSFT, have 110.0 aapl and 92.0 msft and 645.3650512695312 cash\n",
            "sold AAPL, have 109.0 aapl and 92.0 msft and 687.6712036132812 cash\n",
            "bought AAPL, have 110.0 aapl and 92.0 msft and 636.7173461914062 cash\n",
            "nothing, have 110.0 aapl and 92.0 msft and 636.7173461914062 cash\n",
            "sold MSFT, have 110.0 aapl and 91.0 msft and 674.1354370117188 cash\n",
            "bought AAPL, have 111.0 aapl and 91.0 msft and 612.4954223632812 cash\n",
            "bought AAPL, have 112.0 aapl and 91.0 msft and 555.01904296875 cash\n",
            "sold MSFT, have 112.0 aapl and 90.0 msft and 590.66064453125 cash\n",
            "bought MSFT, have 112.0 aapl and 91.0 msft and 549.1424560546875 cash\n",
            "sold MSFT, have 112.0 aapl and 90.0 msft and 584.6436767578125 cash\n",
            "nothing, have 112.0 aapl and 90.0 msft and 584.6436767578125 cash\n",
            "sold AAPL, have 111.0 aapl and 90.0 msft and 623.65478515625 cash\n",
            "bought MSFT, have 111.0 aapl and 91.0 msft and 581.0386962890625 cash\n",
            "nothing, have 111.0 aapl and 91.0 msft and 581.0386962890625 cash\n",
            "sold MSFT, have 111.0 aapl and 90.0 msft and 614.4790649414062 cash\n",
            "bought AAPL, have 112.0 aapl and 90.0 msft and 557.7848510742188 cash\n",
            "nothing, have 112.0 aapl and 90.0 msft and 557.7848510742188 cash\n",
            "sold MSFT, have 112.0 aapl and 89.0 msft and 587.0187377929688 cash\n",
            "bought AAPL, have 113.0 aapl and 89.0 msft and 520.6448974609375 cash\n",
            "sold AAPL, have 112.0 aapl and 89.0 msft and 575.900146484375 cash\n",
            "sold MSFT, have 112.0 aapl and 88.0 msft and 606.228515625 cash\n",
            "bought AAPL, have 113.0 aapl and 88.0 msft and 538.7935180664062 cash\n",
            "bought AAPL, have 114.0 aapl and 88.0 msft and 474.63116455078125 cash\n",
            "sold AAPL, have 113.0 aapl and 88.0 msft and 524.5940551757812 cash\n",
            "nothing, have 113.0 aapl and 88.0 msft and 524.5940551757812 cash\n",
            "bought AAPL, have 114.0 aapl and 88.0 msft and 465.3875732421875 cash\n",
            "nothing, have 114.0 aapl and 88.0 msft and 465.3875732421875 cash\n",
            "sold MSFT, have 114.0 aapl and 87.0 msft and 492.3177185058594 cash\n",
            "nothing, have 114.0 aapl and 87.0 msft and 492.3177185058594 cash\n",
            "bought AAPL, have 115.0 aapl and 87.0 msft and 431.2747497558594 cash\n",
            "bought MSFT, have 115.0 aapl and 88.0 msft and 394.32745361328125 cash\n",
            "sold MSFT, have 115.0 aapl and 87.0 msft and 427.1329040527344 cash\n",
            "sold AAPL, have 114.0 aapl and 87.0 msft and 477.1983337402344 cash\n",
            "bought AAPL, have 115.0 aapl and 87.0 msft and 417.37689208984375 cash\n",
            "bought AAPL, have 116.0 aapl and 87.0 msft and 354.8110656738281 cash\n",
            "bought MSFT, have 116.0 aapl and 88.0 msft and 317.03857421875 cash\n",
            "nothing, have 116.0 aapl and 88.0 msft and 317.03857421875 cash\n",
            "nothing, have 116.0 aapl and 88.0 msft and 317.03857421875 cash\n",
            "nothing, have 116.0 aapl and 88.0 msft and 317.03857421875 cash\n",
            "bought MSFT, have 116.0 aapl and 89.0 msft and 282.19415283203125 cash\n",
            "sold AAPL, have 115.0 aapl and 89.0 msft and 331.04376220703125 cash\n",
            "bought AAPL, have 116.0 aapl and 89.0 msft and 271.4543151855469 cash\n",
            "sold MSFT, have 116.0 aapl and 88.0 msft and 298.6998596191406 cash\n",
            "sold AAPL, have 115.0 aapl and 88.0 msft and 343.503662109375 cash\n",
            "sold MSFT, have 115.0 aapl and 87.0 msft and 371.50885009765625 cash\n",
            "bought MSFT, have 115.0 aapl and 88.0 msft and 336.26605224609375 cash\n",
            "sold MSFT, have 115.0 aapl and 87.0 msft and 364.1849060058594 cash\n",
            "sold MSFT, have 115.0 aapl and 86.0 msft and 393.1585998535156 cash\n",
            "bought MSFT, have 115.0 aapl and 87.0 msft and 357.4801025390625 cash\n",
            "sold MSFT, have 115.0 aapl and 86.0 msft and 385.1434326171875 cash\n",
            "bought AAPL, have 116.0 aapl and 86.0 msft and 340.7406311035156 cash\n",
            "bought MSFT, have 116.0 aapl and 87.0 msft and 313.6354064941406 cash\n",
            "sold MSFT, have 116.0 aapl and 86.0 msft and 338.3702392578125 cash\n",
            "bought AAPL, have 117.0 aapl and 86.0 msft and 299.2423095703125 cash\n",
            "bought MSFT, have 117.0 aapl and 87.0 msft and 269.7873840332031 cash\n",
            "sold MSFT, have 117.0 aapl and 86.0 msft and 294.49169921875 cash\n",
            "bought MSFT, have 117.0 aapl and 87.0 msft and 265.1423034667969 cash\n",
            "nothing, have 117.0 aapl and 87.0 msft and 265.1423034667969 cash\n",
            "sold MSFT, have 117.0 aapl and 86.0 msft and 289.6360778808594 cash\n",
            "sold MSFT, have 117.0 aapl and 85.0 msft and 316.03070068359375 cash\n",
            "sold MSFT, have 117.0 aapl and 84.0 msft and 342.34613037109375 cash\n",
            "sold MSFT, have 117.0 aapl and 83.0 msft and 369.21240234375 cash\n",
            "sold MSFT, have 117.0 aapl and 82.0 msft and 400.49951171875 cash\n",
            "bought MSFT, have 117.0 aapl and 83.0 msft and 361.58648681640625 cash\n",
            "bought AAPL, have 118.0 aapl and 83.0 msft and 315.6124572753906 cash\n",
            "bought MSFT, have 118.0 aapl and 84.0 msft and 276.6729736328125 cash\n",
            "bought MSFT, have 118.0 aapl and 85.0 msft and 238.5122528076172 cash\n",
            "sold AAPL, have 117.0 aapl and 85.0 msft and 273.0355529785156 cash\n",
            "bought MSFT, have 117.0 aapl and 86.0 msft and 233.75936889648438 cash\n",
            "bought AAPL, have 118.0 aapl and 86.0 msft and 196.56948852539062 cash\n",
            "sold AAPL, have 117.0 aapl and 86.0 msft and 227.4159698486328 cash\n",
            "nothing, have 117.0 aapl and 86.0 msft and 227.4159698486328 cash\n",
            "sold MSFT, have 117.0 aapl and 85.0 msft and 259.3153381347656 cash\n",
            "sold AAPL, have 116.0 aapl and 85.0 msft and 281.2200012207031 cash\n",
            "bought MSFT, have 116.0 aapl and 86.0 msft and 242.68942260742188 cash\n",
            "nothing, have 116.0 aapl and 86.0 msft and 242.68942260742188 cash\n",
            "bought AAPL, have 117.0 aapl and 86.0 msft and 228.6939239501953 cash\n",
            "bought MSFT, have 117.0 aapl and 87.0 msft and 194.6226348876953 cash\n",
            "bought MSFT, have 117.0 aapl and 88.0 msft and 160.2521209716797 cash\n",
            "sold MSFT, have 117.0 aapl and 87.0 msft and 189.4642791748047 cash\n",
            "bought AAPL, have 118.0 aapl and 87.0 msft and 178.8242950439453 cash\n",
            "bought AAPL, have 119.0 aapl and 87.0 msft and 167.69493103027344 cash\n",
            "bought MSFT, have 119.0 aapl and 88.0 msft and 133.64547729492188 cash\n",
            "bought AAPL, have 120.0 aapl and 88.0 msft and 120.74536895751953 cash\n",
            "nothing, have 120.0 aapl and 88.0 msft and 120.74536895751953 cash\n",
            "bought MSFT, have 120.0 aapl and 89.0 msft and 87.71221923828125 cash\n",
            "sold MSFT, have 120.0 aapl and 88.0 msft and 115.3531723022461 cash\n",
            "bought AAPL, have 121.0 aapl and 88.0 msft and 94.10456848144531 cash\n",
            "nothing, have 121.0 aapl and 88.0 msft and 94.10456848144531 cash\n",
            "sold AAPL, have 120.0 aapl and 88.0 msft and 113.54158020019531 cash\n",
            "sold MSFT, have 120.0 aapl and 87.0 msft and 142.44984436035156 cash\n",
            "sold MSFT, have 120.0 aapl and 86.0 msft and 171.4229278564453 cash\n",
            "bought AAPL, have 121.0 aapl and 86.0 msft and 149.5974578857422 cash\n",
            "sold AAPL, have 120.0 aapl and 86.0 msft and 164.60604858398438 cash\n",
            "bought AAPL, have 121.0 aapl and 86.0 msft and 158.68682861328125 cash\n",
            "bought MSFT, have 121.0 aapl and 87.0 msft and 129.83334350585938 cash\n",
            "nothing, have 121.0 aapl and 87.0 msft and 129.83334350585938 cash\n",
            "bought MSFT, have 121.0 aapl and 88.0 msft and 99.33638763427734 cash\n",
            "bought AAPL, have 122.0 aapl and 88.0 msft and 92.60368347167969 cash\n",
            "bought MSFT, have 122.0 aapl and 89.0 msft and 62.27825927734375 cash\n",
            "bought AAPL, have 123.0 aapl and 89.0 msft and 54.06080627441406 cash\n",
            "bought MSFT, have 123.0 aapl and 90.0 msft and 24.038917541503906 cash\n",
            "bankrupted self by 1\n"
          ],
          "name": "stdout"
        }
      ]
    },
    {
      "cell_type": "code",
      "metadata": {
        "id": "ABXn2AqwH1kI",
        "colab_type": "code",
        "colab": {}
      },
      "source": [
        "apl_open_orig = apl_stock[\"Open\"].values\n",
        "apl_close_orig = apl_stock[\"Close\"].values\n",
        "msf_open_orig = msf_stock[\"Open\"].values\n",
        "msf_close_orig = msf_stock[\"Close\"].values\n",
        "apl_open_orig[:108] /= 7\n",
        "apl_close_orig[:108] /= 7"
      ],
      "execution_count": 0,
      "outputs": []
    },
    {
      "cell_type": "code",
      "metadata": {
        "id": "1JvSLcJgH1kJ",
        "colab_type": "code",
        "colab": {},
        "outputId": "c27614ab-5581-46db-fdd1-1e69036d39e9"
      },
      "source": [
        "env = TradingEnvironment(max_stride=4, series_length=250, starting_cash_mean=1000, randomize_cash_std=100, starting_shares_mean=100, randomize_shares_std=10)\n",
        "env.reset()\n",
        "complete_game = False\n",
        "while not complete_game:\n",
        "    bought_apl_at = []\n",
        "    bought_msf_at = []\n",
        "    sold_apl_at = []\n",
        "    sold_msf_at = []\n",
        "    bought_apl_at_orig = []\n",
        "    bought_msf_at_orig = []\n",
        "    sold_apl_at_orig = []\n",
        "    sold_msf_at_orig = []\n",
        "    nothing_at = []\n",
        "    ba_action_times = []\n",
        "    bm_action_times = []\n",
        "    sa_action_times = []\n",
        "    sm_action_times = []\n",
        "    n_action_times = []\n",
        "    starting_val = env.starting_portfolio_value\n",
        "    print(\"Starting portfolio value: {}\".format(starting_val))\n",
        "    for i in range(0,env.series_length + 1):\n",
        "        action = model.act(env.state)\n",
        "        if action == 0:\n",
        "            bought_apl_at.append(apl_open[env.cur_timestep])\n",
        "            bought_apl_at_orig.append(apl_open_orig[env.cur_timestep])\n",
        "            ba_action_times.append(env.cur_timestep)\n",
        "        if action == 1:\n",
        "            sold_apl_at.append(apl_close[env.cur_timestep])\n",
        "            sold_apl_at_orig.append(apl_close_orig[env.cur_timestep])\n",
        "            sa_action_times.append(env.cur_timestep)\n",
        "        if action == 2:\n",
        "            nothing_at.append(35)\n",
        "            n_action_times.append(env.cur_timestep)\n",
        "        if action == 3:\n",
        "            bought_msf_at.append(msf_open[env.cur_timestep])\n",
        "            bought_msf_at_orig.append(msf_open_orig[env.cur_timestep])\n",
        "            bm_action_times.append(env.cur_timestep)\n",
        "        if action == 4:\n",
        "            sold_msf_at.append(msf_close[env.cur_timestep])\n",
        "            sold_msf_at_orig.append(msf_close_orig[env.cur_timestep])\n",
        "            sm_action_times.append(env.cur_timestep)\n",
        "        next_state, reward, done, msg = env.step(action)\n",
        "        if msg[\"msg\"] == 'bankrupted self':\n",
        "            env.reset()\n",
        "            break\n",
        "        if msg[\"msg\"] == 'sold more than have':\n",
        "            env.reset()\n",
        "            break\n",
        "        if msg[\"msg\"] == \"done\":\n",
        "            print(\"{}, have {} aapl and {} msft and {} cash\".format(msg[\"msg\"], next_state[0], next_state[1], next_state[2]))\n",
        "            val = env.portfolio_value()\n",
        "            print(\"Finished portfolio value {}\".format(val))\n",
        "            if val > starting_val * 1.1: complete_game = True\n",
        "            env.reset()\n",
        "            break"
      ],
      "execution_count": 0,
      "outputs": [
        {
          "output_type": "stream",
          "text": [
            "Starting portfolio value: 8042.072265625\n",
            "Starting portfolio value: 7718.42431640625\n",
            "Starting portfolio value: 7588.3505859375\n",
            "Starting portfolio value: 9001.9716796875\n",
            "Starting portfolio value: 8608.466796875\n",
            "Starting portfolio value: 7559.849609375\n",
            "Starting portfolio value: 7320.38427734375\n",
            "Starting portfolio value: 7893.2490234375\n",
            "Starting portfolio value: 8548.1484375\n",
            "Starting portfolio value: 8793.611328125\n",
            "Starting portfolio value: 8575.9326171875\n",
            "Starting portfolio value: 7763.4609375\n",
            "Starting portfolio value: 7615.88671875\n",
            "Starting portfolio value: 7504.24267578125\n",
            "Starting portfolio value: 8992.1484375\n",
            "Starting portfolio value: 7637.53173828125\n",
            "Starting portfolio value: 7952.177734375\n",
            "Starting portfolio value: 8151.85888671875\n",
            "Starting portfolio value: 8044.8525390625\n",
            "Starting portfolio value: 7347.955078125\n",
            "Starting portfolio value: 7771.0634765625\n",
            "Starting portfolio value: 8337.357421875\n",
            "done, have 113.0 aapl and 109.0 msft and 47.79100799560547 cash\n",
            "Finished portfolio value 10696.623046875\n"
          ],
          "name": "stdout"
        }
      ]
    },
    {
      "cell_type": "code",
      "metadata": {
        "id": "NA94kubTH1kJ",
        "colab_type": "code",
        "colab": {},
        "outputId": "531a4c67-d845-40f3-b52a-521702899825"
      },
      "source": [
        "plt.figure(1, figsize=(14,5))\n",
        "apl = plt.subplot(121)\n",
        "msf = plt.subplot(122)\n",
        "apl.plot(range(0, len(apl_open)), apl_open)\n",
        "msf.plot(range(0, len(msf_open)), msf_open)\n",
        "apl.plot(ba_action_times, bought_apl_at, \"ro\")\n",
        "apl.plot(sa_action_times, sold_apl_at, \"go\")\n",
        "apl.plot(n_action_times, nothing_at, \"yx\")\n",
        "msf.plot(n_action_times, nothing_at, \"yx\")\n",
        "msf.plot(bm_action_times, bought_msf_at, \"ro\")\n",
        "msf.plot(sm_action_times, sold_msf_at, \"go\")"
      ],
      "execution_count": 0,
      "outputs": [
        {
          "output_type": "execute_result",
          "data": {
            "text/plain": [
              "[<matplotlib.lines.Line2D at 0x1fddcaad908>]"
            ]
          },
          "metadata": {
            "tags": []
          },
          "execution_count": 58
        },
        {
          "output_type": "display_data",
          "data": {
            "image/png": "[encoded data removed]",
            "text/plain": [
              "<Figure size 1008x360 with 2 Axes>"
            ]
          },
          "metadata": {
            "tags": []
          }
        }
      ]
    },
    {
      "cell_type": "code",
      "metadata": {
        "id": "CZuHXGHrH1kK",
        "colab_type": "code",
        "colab": {},
        "outputId": "407a96f6-742e-4ac5-9c73-e0b02f1a26ca"
      },
      "source": [
        "plt.figure(1, figsize=(14,5))\n",
        "apl = plt.subplot(121)\n",
        "msf = plt.subplot(122)\n",
        "apl.plot(range(0, len(apl_open_orig)), apl_open_orig)\n",
        "msf.plot(range(0, len(msf_open_orig)), msf_open_orig)\n",
        "apl.plot(ba_action_times, bought_apl_at_orig, \"ro\")\n",
        "apl.plot(sa_action_times, sold_apl_at_orig, \"go\")\n",
        "apl.plot(n_action_times, nothing_at, \"yx\")\n",
        "msf.plot(n_action_times, nothing_at, \"yx\")\n",
        "msf.plot(bm_action_times, bought_msf_at_orig, \"ro\")\n",
        "msf.plot(sm_action_times, sold_msf_at_orig, \"go\")"
      ],
      "execution_count": 0,
      "outputs": [
        {
          "output_type": "execute_result",
          "data": {
            "text/plain": [
              "[<matplotlib.lines.Line2D at 0x1fddcb26e80>]"
            ]
          },
          "metadata": {
            "tags": []
          },
          "execution_count": 59
        },
        {
          "output_type": "display_data",
          "data": {
            "image/png": "[encoded data removed]",
            "text/plain": [
              "<Figure size 1008x360 with 2 Axes>"
            ]
          },
          "metadata": {
            "tags": []
          }
        }
      ]
    }
  ]
}